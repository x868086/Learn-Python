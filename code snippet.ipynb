{
 "cells": [
  {
   "cell_type": "code",
   "execution_count": 45,
   "metadata": {},
   "outputs": [
    {
     "name": "stdout",
     "output_type": "stream",
     "text": [
      "0\n",
      "{'country': '英国', '_Humman__huminst': 'humman instance private val'}\n",
      "{'__module__': '__main__', '__doc__': None}\n"
     ]
    }
   ],
   "source": [
    "class Humman():\n",
    "    sum = 0\n",
    "    __hmval = 'humman class private val' #声明类的私有变量\n",
    "    def __init__(self,country):\n",
    "        self.country=country\n",
    "        self.__huminst = 'humman instance private val' #声明实例的私有变量\n",
    "    def getCountry(self):\n",
    "        print(self.__huminst) #内部访问私有变量\n",
    "        print(Humman.__hmval) #内部访问类的私有变量\n",
    "        print(self.__class__._Humman__hmval) #内部访问类的私有变量\n",
    "\n",
    "class Student(Humman):\n",
    "    pass\n",
    "\n",
    "stu1 = Student('英国')\n",
    "\n",
    "print(stu1.sum) #可直接访问父类属性\n",
    "print(stu1.__dict__) #包含父类的私有属性_Human__huminst\n",
    "#返回{'country': '英国', '_Humman__huminst': 'humman instance private val'}\n",
    "\n"
   ]
  },
  {
   "cell_type": "code",
   "execution_count": 49,
   "metadata": {},
   "outputs": [
    {
     "name": "stdout",
     "output_type": "stream",
     "text": [
      "{'country': '英国', 'name': 'abc', 'age': 20, '_Humman__huminst': 'humman instance private val', 'score': 60}\n",
      "humman instance private val\n",
      "humman class private val\n",
      "humman class private val\n"
     ]
    }
   ],
   "source": [
    "class Humman():\n",
    "    sum = 0\n",
    "    __hmval = 'humman class private val' #声明类的私有变量\n",
    "    def __init__(self,country,name,age):\n",
    "        self.country=country\n",
    "        self.name=name\n",
    "        self.age=age\n",
    "        self.__huminst = 'humman instance private val' #声明实例的私有变量\n",
    "    def getCountry(self):\n",
    "        print(self.__huminst) #内部访问私有变量\n",
    "        print(Humman.__hmval) #内部访问类的私有变量\n",
    "        print(self.__class__._Humman__hmval) #内部访问类的私有变量\n",
    "\n",
    "class Student(Humman):\n",
    "    def __init__(self,country,score,name,age):\n",
    "        super().__init__(country,name,age) #执行父类的构造函数，继承父类的实例化属性\n",
    "        self.score=score #子类实例属性\n",
    "    def get_score(self):\n",
    "        print(self.__dict__)\n",
    "        super().getCountry() #执行父类的方法\n",
    "\n",
    "\n",
    "stu1 = Student('英国',60,'abc',20)\n",
    "stu1.get_score()\n",
    "#返回 {'country': '英国', 'name': 'abc', 'age': 20, '_Humman__huminst': 'humman instance private val', 'score': 60}"
   ]
  }
 ],
 "metadata": {
  "kernelspec": {
   "display_name": "Python 3",
   "language": "python",
   "name": "python3"
  },
  "language_info": {
   "codemirror_mode": {
    "name": "ipython",
    "version": 3
   },
   "file_extension": ".py",
   "mimetype": "text/x-python",
   "name": "python",
   "nbconvert_exporter": "python",
   "pygments_lexer": "ipython3",
   "version": "3.12.1"
  }
 },
 "nbformat": 4,
 "nbformat_minor": 2
}
