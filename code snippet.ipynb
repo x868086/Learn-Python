{
 "cells": [
  {
   "cell_type": "code",
   "execution_count": 45,
   "metadata": {},
   "outputs": [
    {
     "name": "stdout",
     "output_type": "stream",
     "text": [
      "0\n",
      "{'country': '英国', '_Humman__huminst': 'humman instance private val'}\n",
      "{'__module__': '__main__', '__doc__': None}\n"
     ]
    }
   ],
   "source": [
    "class Humman():\n",
    "    sum = 0\n",
    "    __hmval = 'humman class private val' #声明类的私有变量\n",
    "    def __init__(self,country):\n",
    "        self.country=country\n",
    "        self.__huminst = 'humman instance private val' #声明实例的私有变量\n",
    "    def getCountry(self):\n",
    "        print(self.__huminst) #内部访问私有变量\n",
    "        print(Humman.__hmval) #内部访问类的私有变量\n",
    "        print(self.__class__._Humman__hmval) #内部访问类的私有变量\n",
    "\n",
    "class Student(Humman):\n",
    "    pass\n",
    "\n",
    "stu1 = Student('英国')\n",
    "\n",
    "print(stu1.sum) #可直接访问父类属性\n",
    "print(stu1.__dict__) #包含父类的私有属性_Human__huminst\n",
    "#返回{'country': '英国', '_Humman__huminst': 'humman instance private val'}\n",
    "\n"
   ]
  },
  {
   "cell_type": "code",
   "execution_count": 49,
   "metadata": {},
   "outputs": [
    {
     "name": "stdout",
     "output_type": "stream",
     "text": [
      "{'country': '英国', 'name': 'abc', 'age': 20, '_Humman__huminst': 'humman instance private val', 'score': 60}\n",
      "humman instance private val\n",
      "humman class private val\n",
      "humman class private val\n"
     ]
    }
   ],
   "source": [
    "class Humman():\n",
    "    sum = 0\n",
    "    __hmval = 'humman class private val' #声明类的私有变量\n",
    "    def __init__(self,country,name,age):\n",
    "        self.country=country\n",
    "        self.name=name\n",
    "        self.age=age\n",
    "        self.__huminst = 'humman instance private val' #声明实例的私有变量\n",
    "    def getCountry(self):\n",
    "        print(self.__huminst) #内部访问私有变量\n",
    "        print(Humman.__hmval) #内部访问类的私有变量\n",
    "        print(self.__class__._Humman__hmval) #内部访问类的私有变量\n",
    "\n",
    "class Student(Humman):\n",
    "    def __init__(self,country,score,name,age):\n",
    "        super().__init__(country,name,age) #执行父类的构造函数，继承父类的实例化属性\n",
    "        self.score=score #子类实例属性\n",
    "    def get_score(self):\n",
    "        print(self.__dict__)\n",
    "        super().getCountry() #执行父类的方法\n",
    "\n",
    "\n",
    "stu1 = Student('英国',60,'abc',20)\n",
    "stu1.get_score()\n",
    "#返回 {'country': '英国', 'name': 'abc', 'age': 20, '_Humman__huminst': 'humman instance private val', 'score': 60}"
   ]
  },
  {
   "cell_type": "code",
   "execution_count": 51,
   "metadata": {},
   "outputs": [
    {
     "name": "stdout",
     "output_type": "stream",
     "text": [
      "<class 'type'>\n"
     ]
    }
   ],
   "source": [
    "class abc():\n",
    "    pass\n",
    "\n",
    "print(abc.__class__)"
   ]
  },
  {
   "cell_type": "markdown",
   "metadata": {},
   "source": [
    "## json反序列化"
   ]
  },
  {
   "cell_type": "code",
   "execution_count": 7,
   "metadata": {},
   "outputs": [
    {
     "name": "stdout",
     "output_type": "stream",
     "text": [
      "[{'name': 'a1'}, {'name2': 'a2'}]\n",
      "<class 'list'>\n",
      "[{\"name\": \"a1\"}, {\"name2\": \"a2\"}]\n",
      "<class 'str'>\n"
     ]
    }
   ],
   "source": [
    "import json\n",
    "list1 = json.loads('[{\"name\":\"a1\"},{\"name2\":\"a2\"}]') #字符串格式list转成list\n",
    "print(list1) #返回list格式\n",
    "print(type(list1))\n",
    "\n",
    "list1Str = json.dumps(list1) #将list格式转成字符串格式list\n",
    "print(list1Str) #返回字符串格式list\n",
    "print(type(list1Str))"
   ]
  },
  {
   "cell_type": "code",
   "execution_count": 11,
   "metadata": {},
   "outputs": [
    {
     "name": "stdout",
     "output_type": "stream",
     "text": [
      "[{'a': 1, 'b': 2}, {'c': 3}]\n"
     ]
    }
   ],
   "source": [
    "import json\n",
    "abc = json.loads('[{\"a\":1,\"b\":2},{\"c\":3}]')\n",
    "print(abc)"
   ]
  },
  {
   "cell_type": "markdown",
   "metadata": {},
   "source": [
    "## 枚举"
   ]
  },
  {
   "cell_type": "code",
   "execution_count": 12,
   "metadata": {},
   "outputs": [
    {
     "name": "stdout",
     "output_type": "stream",
     "text": [
      "ClientTypeEnum.USER_EMAIL\n"
     ]
    }
   ],
   "source": [
    "from enum import Enum\n",
    "class ClientTypeEnum(Enum): #继承枚举类型\n",
    "    USER_EMAIL=100\n",
    "    USER_PHONE=101\n",
    "    USER_MINA=200\n",
    "    USER_WX=201\n",
    "    abc = 100\n",
    "\n",
    "print(ClientTypeEnum(100))"
   ]
  },
  {
   "cell_type": "markdown",
   "metadata": {},
   "source": [
    "## 闭包"
   ]
  },
  {
   "cell_type": "code",
   "execution_count": 29,
   "metadata": {},
   "outputs": [
    {
     "name": "stdout",
     "output_type": "stream",
     "text": [
      "<function abc.<locals>.cde at 0x000002863B02DBC0>\n",
      "25\n"
     ]
    }
   ],
   "source": [
    "def abc():\n",
    "    a=25\n",
    "    def cde():\n",
    "        return a + 5\n",
    "    return cde\n",
    "    \n",
    "f = abc()\n",
    "print(f)\n",
    "print(f.__closure__[0].cell_contents)"
   ]
  },
  {
   "cell_type": "code",
   "execution_count": 30,
   "metadata": {},
   "outputs": [
    {
     "name": "stdout",
     "output_type": "stream",
     "text": [
      "2\n",
      "2\n",
      "8\n",
      "8\n",
      "20\n",
      "20\n"
     ]
    }
   ],
   "source": [
    "def save_steps(x):\n",
    "    origin = x\n",
    "    def walk_step(step):\n",
    "        nonlocal origin #nonlocal 声明引用的是外层函数的局部变量\n",
    "        origin += step #如果不使用nonlocal显示声明，此行修改变量会提示变量不存在的错误\n",
    "\n",
    "        print(origin)\n",
    "        return origin\n",
    "    return walk_step\n",
    "\n",
    "fn = save_steps(0)\n",
    "fn(2)\n",
    "print(fn.__closure__[0].cell_contents)\n",
    "fn(6)\n",
    "print(fn.__closure__[0].cell_contents)\n",
    "fn(12)\n",
    "print(fn.__closure__[0].cell_contents)\n"
   ]
  },
  {
   "cell_type": "markdown",
   "metadata": {},
   "source": [
    "## 函数式编程"
   ]
  },
  {
   "cell_type": "code",
   "execution_count": 39,
   "metadata": {},
   "outputs": [
    {
     "name": "stdout",
     "output_type": "stream",
     "text": [
      "[1, 4, 9, 16, 25, 36, 49, 64]\n",
      "[1, 4, 9, 16, 25, 36, 49, 64]\n",
      "[2, 6, 12, 20, 30, 42]\n"
     ]
    }
   ],
   "source": [
    "list_x = [1,2,3,4,5,6,7,8]\n",
    "list_y = [1,2,3,4,5,6]\n",
    "\n",
    "def square(x):\n",
    "    return x * x\n",
    "\n",
    "r = map(square,list_x)\n",
    "print(list(r))\n",
    "\n",
    "r2 = map(lambda x:x*x, list_x)\n",
    "print(list(r2))\n",
    "\n",
    "r3 = map(lambda x,y:x*x +y, list_x,list_y)\n",
    "print(list(r3))"
   ]
  }
 ],
 "metadata": {
  "kernelspec": {
   "display_name": "Python 3",
   "language": "python",
   "name": "python3"
  },
  "language_info": {
   "codemirror_mode": {
    "name": "ipython",
    "version": 3
   },
   "file_extension": ".py",
   "mimetype": "text/x-python",
   "name": "python",
   "nbconvert_exporter": "python",
   "pygments_lexer": "ipython3",
   "version": "3.12.1"
  }
 },
 "nbformat": 4,
 "nbformat_minor": 2
}
