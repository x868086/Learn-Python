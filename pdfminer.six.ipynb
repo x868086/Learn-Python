{
 "cells": [
  {
   "cell_type": "code",
   "execution_count": null,
   "metadata": {},
   "outputs": [],
   "source": [
    "pip install pdfminer.six"
   ]
  },
  {
   "cell_type": "code",
   "execution_count": null,
   "metadata": {},
   "outputs": [],
   "source": [
    "# 读取pdf文件并提取pdf为纯文本内容\n",
    "from pdfminer.high_level import extract_text\n",
    "text = extract_text('./python 3.0.pdf')\n",
    "print(text)"
   ]
  },
  {
   "cell_type": "code",
   "execution_count": null,
   "metadata": {},
   "outputs": [],
   "source": [
    "# 用于在内存中操作字符串，类似于文件操作。\n",
    "from io import StringIO\n",
    "\n",
    "# 将解析后的PDF内容转换为文本。\n",
    "from pdfminer.converter import TextConverter\n",
    "# 布局参数，用于控制文本的布局分析。\n",
    "from pdfminer.layout import LAParams\n",
    "# 表示PDF文档的对象\n",
    "from pdfminer.pdfdocument import PDFDocument\n",
    "# PDFResourceManager 资源管理器，用于存储共享资源，如字体或图像。PDFPageInterpreter：解释器，用于处理PDF页面。\n",
    "from pdfminer.pdfinterp import PDFResourceManager, PDFPageInterpreter\n",
    "# 表示PDF页面的对象\n",
    "from pdfminer.pdfpage import PDFPage\n",
    "# 解析器，用于解析PDF文件。\n",
    "from pdfminer.pdfparser import PDFParser\n",
    "\n",
    "# 用于存储提取的文本内容。StringIO 对象允许我们在内存中处理字符串，就像处理文件一样。\n",
    "output_string = StringIO()\n",
    "with open('./python 3.0.pdf', 'rb') as in_file:\n",
    "    parser = PDFParser(in_file)\n",
    "    # PDFDocument 对象表示解析后的PDF文档。它包含了文档的元数据和页面信息。\n",
    "    doc = PDFDocument(parser)\n",
    "    # 创建资源管理器对象\n",
    "    rsrcmgr = PDFResourceManager()\n",
    "    # 创建文本转换器对象\n",
    "    device = TextConverter(rsrcmgr, output_string, laparams=LAParams())\n",
    "    # PDFPageInterpreter 对象用于处理PDF页面。它使用资源管理器和文本转换器来解析和转换页面内容。\n",
    "    interpreter = PDFPageInterpreter(rsrcmgr, device)\n",
    "    for page in PDFPage.create_pages(doc):\n",
    "        interpreter.process_page(page)\n",
    "\n",
    "print(output_string.getvalue())"
   ]
  },
  {
   "cell_type": "markdown",
   "metadata": {},
   "source": [
    "#### 布局分析的结果是一系列布局对象的层次结构。\n",
    "![pdfminersix中的page结构](./img/pdfminersix01.png)"
   ]
  }
 ],
 "metadata": {
  "kernelspec": {
   "display_name": "Python 3",
   "language": "python",
   "name": "python3"
  },
  "language_info": {
   "codemirror_mode": {
    "name": "ipython",
    "version": 3
   },
   "file_extension": ".py",
   "mimetype": "text/x-python",
   "name": "python",
   "nbconvert_exporter": "python",
   "pygments_lexer": "ipython3",
   "version": "3.12.6"
  }
 },
 "nbformat": 4,
 "nbformat_minor": 2
}
